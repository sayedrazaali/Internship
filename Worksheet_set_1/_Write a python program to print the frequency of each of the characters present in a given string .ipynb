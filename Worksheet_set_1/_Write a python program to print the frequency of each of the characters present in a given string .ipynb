{
 "cells": [
  {
   "cell_type": "code",
   "execution_count": 2,
   "id": "13611448",
   "metadata": {},
   "outputs": [
    {
     "name": "stdout",
     "output_type": "stream",
     "text": [
      "Count of all characters in This is an Internship Program  is :\n",
      " {'T': 1, 'h': 2, 'i': 3, 's': 3, ' ': 4, 'a': 2, 'n': 3, 'I': 1, 't': 1, 'e': 1, 'r': 3, 'p': 1, 'P': 1, 'o': 1, 'g': 1, 'm': 1}\n"
     ]
    }
   ],
   "source": [
    "_str = \"This is an Internship Program\"\n",
    "  \n",
    "all_freq = {}\n",
    "  \n",
    "for i in _str:\n",
    "    if i in all_freq:\n",
    "        all_freq[i] += 1\n",
    "    else:\n",
    "        all_freq[i] = 1\n",
    "  \n",
    "print (\"Count of all characters in This is an Internship Program  is :\\n \"\n",
    "                                        +  str(all_freq))\n"
   ]
  },
  {
   "cell_type": "code",
   "execution_count": null,
   "id": "567b4837",
   "metadata": {},
   "outputs": [],
   "source": []
  }
 ],
 "metadata": {
  "kernelspec": {
   "display_name": "Python 3 (ipykernel)",
   "language": "python",
   "name": "python3"
  },
  "language_info": {
   "codemirror_mode": {
    "name": "ipython",
    "version": 3
   },
   "file_extension": ".py",
   "mimetype": "text/x-python",
   "name": "python",
   "nbconvert_exporter": "python",
   "pygments_lexer": "ipython3",
   "version": "3.9.7"
  }
 },
 "nbformat": 4,
 "nbformat_minor": 5
}
